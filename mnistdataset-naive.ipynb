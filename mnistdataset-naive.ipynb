{
 "cells": [
  {
   "cell_type": "code",
   "execution_count": 1,
   "id": "114f3cde",
   "metadata": {
    "_cell_guid": "b1076dfc-b9ad-4769-8c92-a6c4dae69d19",
    "_uuid": "8f2839f25d086af736a60e9eeb907d3b93b6e0e5",
    "execution": {
     "iopub.execute_input": "2024-05-24T07:59:26.527436Z",
     "iopub.status.busy": "2024-05-24T07:59:26.527068Z",
     "iopub.status.idle": "2024-05-24T07:59:27.462381Z",
     "shell.execute_reply": "2024-05-24T07:59:27.461359Z"
    },
    "papermill": {
     "duration": 0.946295,
     "end_time": "2024-05-24T07:59:27.464691",
     "exception": false,
     "start_time": "2024-05-24T07:59:26.518396",
     "status": "completed"
    },
    "tags": []
   },
   "outputs": [
    {
     "name": "stdout",
     "output_type": "stream",
     "text": [
      "/kaggle/input/digit-recognizer/sample_submission.csv\n",
      "/kaggle/input/digit-recognizer/train.csv\n",
      "/kaggle/input/digit-recognizer/test.csv\n"
     ]
    }
   ],
   "source": [
    "# This Python 3 environment comes with many helpful analytics libraries installed\n",
    "# It is defined by the kaggle/python Docker image: https://github.com/kaggle/docker-python\n",
    "# For example, here's several helpful packages to load\n",
    "\n",
    "import numpy as np # linear algebra\n",
    "import pandas as pd # data processing, CSV file I/O (e.g. pd.read_csv)\n",
    "\n",
    "# Input data files are available in the read-only \"../input/\" directory\n",
    "# For example, running this (by clicking run or pressing Shift+Enter) will list all files under the input directory\n",
    "\n",
    "import os\n",
    "for dirname, _, filenames in os.walk('/kaggle/input'):\n",
    "    for filename in filenames:\n",
    "        print(os.path.join(dirname, filename))\n",
    "\n",
    "# You can write up to 20GB to the current directory (/kaggle/working/) that gets preserved as output when you create a version using \"Save & Run All\" \n",
    "# You can also write temporary files to /kaggle/temp/, but they won't be saved outside of the current session"
   ]
  },
  {
   "cell_type": "code",
   "execution_count": 2,
   "id": "51b35655",
   "metadata": {
    "execution": {
     "iopub.execute_input": "2024-05-24T07:59:27.479606Z",
     "iopub.status.busy": "2024-05-24T07:59:27.479190Z",
     "iopub.status.idle": "2024-05-24T07:59:27.485554Z",
     "shell.execute_reply": "2024-05-24T07:59:27.484563Z"
    },
    "papermill": {
     "duration": 0.016071,
     "end_time": "2024-05-24T07:59:27.487567",
     "exception": false,
     "start_time": "2024-05-24T07:59:27.471496",
     "status": "completed"
    },
    "tags": []
   },
   "outputs": [
    {
     "name": "stdout",
     "output_type": "stream",
     "text": [
      "/kaggle ['src', 'lib', 'input', 'working'] []\n",
      "/kaggle/src [] ['script.ipynb']\n",
      "/kaggle/lib ['kaggle'] []\n",
      "/kaggle/lib/kaggle [] ['gcp.py']\n",
      "/kaggle/input ['digit-recognizer'] []\n",
      "/kaggle/input/digit-recognizer [] ['sample_submission.csv', 'train.csv', 'test.csv']\n",
      "/kaggle/working [] ['__notebook__.ipynb']\n"
     ]
    }
   ],
   "source": [
    "# os.rmdir('/kaggle/working/mainfolder')\n",
    "for root, folders, filenames in os.walk('/kaggle'):\n",
    "   print(root, folders,filenames)"
   ]
  },
  {
   "cell_type": "code",
   "execution_count": 3,
   "id": "5c2427d0",
   "metadata": {
    "execution": {
     "iopub.execute_input": "2024-05-24T07:59:27.502233Z",
     "iopub.status.busy": "2024-05-24T07:59:27.501950Z",
     "iopub.status.idle": "2024-05-24T07:59:34.381869Z",
     "shell.execute_reply": "2024-05-24T07:59:34.381058Z"
    },
    "papermill": {
     "duration": 6.889758,
     "end_time": "2024-05-24T07:59:34.384156",
     "exception": false,
     "start_time": "2024-05-24T07:59:27.494398",
     "status": "completed"
    },
    "tags": []
   },
   "outputs": [],
   "source": [
    "import torch\n",
    "import torch.nn.functional as F  # Parameterless functions, like (some) activation functions\n",
    "# import torchvision.datasets as datasets  # Standard datasets\n",
    "import torchvision.transforms as transforms  # Transformations we can perform on our dataset for augmentation\n",
    "from torch import optim  # For optimizers like SGD, Adam, etc.\n",
    "from torch import nn  # All neural network modules\n",
    "from torch.utils.data import (\n",
    "    DataLoader,\n",
    "    Dataset\n",
    ") \n",
    "from PIL import Image\n",
    "from matplotlib import pyplot as plt \n",
    "from tqdm import tqdm\n",
    "import torchvision\n",
    "\n"
   ]
  },
  {
   "cell_type": "code",
   "execution_count": 4,
   "id": "67742f26",
   "metadata": {
    "execution": {
     "iopub.execute_input": "2024-05-24T07:59:34.399687Z",
     "iopub.status.busy": "2024-05-24T07:59:34.398982Z",
     "iopub.status.idle": "2024-05-24T07:59:34.407715Z",
     "shell.execute_reply": "2024-05-24T07:59:34.406840Z"
    },
    "papermill": {
     "duration": 0.018309,
     "end_time": "2024-05-24T07:59:34.409556",
     "exception": false,
     "start_time": "2024-05-24T07:59:34.391247",
     "status": "completed"
    },
    "tags": []
   },
   "outputs": [],
   "source": [
    "class CNN(nn.Module):\n",
    "    def __init__(self, in_channels=1, num_classes=10):\n",
    "        super(CNN, self).__init__()\n",
    "        self.conv1 = nn.Conv2d(\n",
    "            in_channels=in_channels,\n",
    "            out_channels=8,\n",
    "            kernel_size=3,#SAMW conv\n",
    "            stride=1,\n",
    "            padding=1,\n",
    "        )\n",
    "        self.pool = nn.MaxPool2d(kernel_size=2, stride=2)\n",
    "        self.conv2 = nn.Conv2d(\n",
    "            in_channels=8,\n",
    "            out_channels=16,\n",
    "            kernel_size=3,\n",
    "            stride=1,\n",
    "            padding=1,\n",
    "        )\n",
    "        self.fc1 = nn.Linear(16 * 7 * 7, num_classes)\n",
    "#         self.fc2 = nn.Linear(16 * 7 * 7, num_classes)\n",
    "\n",
    "\n",
    "    def forward(self, x):\n",
    "        x = F.relu(self.conv1(x))\n",
    "        x = self.pool(x)\n",
    "        x = F.relu(self.conv2(x))\n",
    "        x = self.pool(x)\n",
    "        x = x.reshape(x.shape[0], -1)\n",
    "        x = self.fc1(x)\n",
    "#         x= self.fc2(x)\n",
    "        return x\n",
    "\n"
   ]
  },
  {
   "cell_type": "code",
   "execution_count": 5,
   "id": "8d974f97",
   "metadata": {
    "execution": {
     "iopub.execute_input": "2024-05-24T07:59:34.425139Z",
     "iopub.status.busy": "2024-05-24T07:59:34.424448Z",
     "iopub.status.idle": "2024-05-24T07:59:34.431494Z",
     "shell.execute_reply": "2024-05-24T07:59:34.430646Z"
    },
    "papermill": {
     "duration": 0.017074,
     "end_time": "2024-05-24T07:59:34.433481",
     "exception": false,
     "start_time": "2024-05-24T07:59:34.416407",
     "status": "completed"
    },
    "tags": []
   },
   "outputs": [],
   "source": [
    "class MnistData(Dataset):\n",
    "    def __init__(self, csv_file, transform=None):\n",
    "            self.annotations = pd.read_csv(csv_file)\n",
    "    #         self.root_dir = root_dir\n",
    "            self.transform = transform\n",
    "    def __len__(self):\n",
    "            return len(self.annotations)\n",
    "    def __getitem__(self, index):\n",
    "            image =  self.annotations.values[index,1:].reshape(28,28,-1).astype('float32')/255.0\n",
    "\n",
    "            y_label = torch.tensor(int(self.annotations.iloc[index, 0]))\n",
    "\n",
    "            if self.transform:\n",
    "                image = self.transform(image)\n",
    "\n",
    "            return (image, y_label)\n",
    "\n",
    "    "
   ]
  },
  {
   "cell_type": "code",
   "execution_count": 6,
   "id": "0a44959a",
   "metadata": {
    "execution": {
     "iopub.execute_input": "2024-05-24T07:59:34.448154Z",
     "iopub.status.busy": "2024-05-24T07:59:34.447836Z",
     "iopub.status.idle": "2024-05-24T07:59:34.454048Z",
     "shell.execute_reply": "2024-05-24T07:59:34.453170Z"
    },
    "papermill": {
     "duration": 0.015877,
     "end_time": "2024-05-24T07:59:34.456029",
     "exception": false,
     "start_time": "2024-05-24T07:59:34.440152",
     "status": "completed"
    },
    "tags": []
   },
   "outputs": [],
   "source": [
    "class pretest(Dataset):\n",
    "    def __init__(self, csv_file, transform=None):\n",
    "            self.annotations = pd.read_csv(csv_file)\n",
    "    #         self.root_dir = root_dir\n",
    "            self.transform = transform\n",
    "    def __len__(self):\n",
    "            return len(self.annotations)\n",
    "    def __getitem__(self, index):\n",
    "            image =  self.annotations.values[index,:].reshape(28,28,-1).astype('float32')/255.0\n",
    "\n",
    "#             y_label = torch.tensor(int(self.annotations.iloc[index, 0]))\n",
    "\n",
    "            if self.transform:\n",
    "                image = self.transform(image)\n",
    "\n",
    "            return (image)"
   ]
  },
  {
   "cell_type": "code",
   "execution_count": 7,
   "id": "92ec6f9b",
   "metadata": {
    "execution": {
     "iopub.execute_input": "2024-05-24T07:59:34.470366Z",
     "iopub.status.busy": "2024-05-24T07:59:34.470066Z",
     "iopub.status.idle": "2024-05-24T07:59:34.476912Z",
     "shell.execute_reply": "2024-05-24T07:59:34.476061Z"
    },
    "papermill": {
     "duration": 0.016172,
     "end_time": "2024-05-24T07:59:34.478851",
     "exception": false,
     "start_time": "2024-05-24T07:59:34.462679",
     "status": "completed"
    },
    "tags": []
   },
   "outputs": [],
   "source": [
    "class test(Dataset):\n",
    "    def __init__(self, csv_file1,csv_file2 ,transform=None):\n",
    "            self.annotations1 = pd.read_csv(csv_file1)\n",
    "            self.annotations2 = pd.read_csv(csv_file2)\n",
    "\n",
    "    #         self.root_dir = root_dir\n",
    "            self.transform = transform\n",
    "    def __len__(self):\n",
    "            return len(self.annotations1)\n",
    "    def __getitem__(self, index):\n",
    "            image =  self.annotations1.values[index,:].reshape(28,28,-1).astype('float32')/255.0\n",
    "\n",
    "            y_label = torch.tensor(int(self.annotations2.iloc[index, 1]))\n",
    "\n",
    "            if self.transform:\n",
    "                image = self.transform(image)\n",
    "\n",
    "            return (image,y_label)"
   ]
  },
  {
   "cell_type": "code",
   "execution_count": 8,
   "id": "31243d2b",
   "metadata": {
    "execution": {
     "iopub.execute_input": "2024-05-24T07:59:34.493265Z",
     "iopub.status.busy": "2024-05-24T07:59:34.492980Z",
     "iopub.status.idle": "2024-05-24T07:59:38.071269Z",
     "shell.execute_reply": "2024-05-24T07:59:38.070028Z"
    },
    "papermill": {
     "duration": 3.587885,
     "end_time": "2024-05-24T07:59:38.073471",
     "exception": false,
     "start_time": "2024-05-24T07:59:34.485586",
     "status": "completed"
    },
    "tags": []
   },
   "outputs": [
    {
     "name": "stdout",
     "output_type": "stream",
     "text": [
      "(28, 28, 1)\n"
     ]
    }
   ],
   "source": [
    "def showimage(index):\n",
    "    dataload = pd.read_csv('/kaggle/input/digit-recognizer/train.csv')\n",
    "    row1 = dataload.values[index,1:].reshape(28,28,-1).astype('float32')/255.0\n",
    "    \n",
    "    # row1\n",
    "    print(row1.shape)\n",
    "    # image = Image.fromarray(row1)\n",
    "#     plt.imshow(row1)\n",
    "showimage(4)\n",
    "\n"
   ]
  },
  {
   "cell_type": "code",
   "execution_count": 9,
   "id": "a70114b8",
   "metadata": {
    "execution": {
     "iopub.execute_input": "2024-05-24T07:59:38.088832Z",
     "iopub.status.busy": "2024-05-24T07:59:38.088199Z",
     "iopub.status.idle": "2024-05-24T07:59:38.143421Z",
     "shell.execute_reply": "2024-05-24T07:59:38.142472Z"
    },
    "papermill": {
     "duration": 0.065001,
     "end_time": "2024-05-24T07:59:38.145560",
     "exception": false,
     "start_time": "2024-05-24T07:59:38.080559",
     "status": "completed"
    },
    "tags": []
   },
   "outputs": [],
   "source": [
    "device = torch.device(\"cuda\" if torch.cuda.is_available() else \"cpu\")\n"
   ]
  },
  {
   "cell_type": "code",
   "execution_count": 10,
   "id": "820af5a9",
   "metadata": {
    "execution": {
     "iopub.execute_input": "2024-05-24T07:59:38.160872Z",
     "iopub.status.busy": "2024-05-24T07:59:38.160557Z",
     "iopub.status.idle": "2024-05-24T07:59:38.164852Z",
     "shell.execute_reply": "2024-05-24T07:59:38.164005Z"
    },
    "papermill": {
     "duration": 0.014234,
     "end_time": "2024-05-24T07:59:38.166948",
     "exception": false,
     "start_time": "2024-05-24T07:59:38.152714",
     "status": "completed"
    },
    "tags": []
   },
   "outputs": [],
   "source": [
    "in_channels = 1\n",
    "num_classes = 10\n",
    "learning_rate = 3e-4 # karpathy's constant\n",
    "batch_size = 64\n",
    "num_epochs = 15"
   ]
  },
  {
   "cell_type": "code",
   "execution_count": 11,
   "id": "544fd644",
   "metadata": {
    "execution": {
     "iopub.execute_input": "2024-05-24T07:59:38.181907Z",
     "iopub.status.busy": "2024-05-24T07:59:38.181630Z",
     "iopub.status.idle": "2024-05-24T07:59:43.034128Z",
     "shell.execute_reply": "2024-05-24T07:59:43.033126Z"
    },
    "papermill": {
     "duration": 4.863116,
     "end_time": "2024-05-24T07:59:43.036696",
     "exception": false,
     "start_time": "2024-05-24T07:59:38.173580",
     "status": "completed"
    },
    "tags": []
   },
   "outputs": [],
   "source": [
    "# Load Data\n",
    "traindataset = MnistData(\n",
    "    csv_file=\"/kaggle/input/digit-recognizer/train.csv\",\n",
    "    transform=transforms.ToTensor(),\n",
    ")\n",
    "testdataset = pretest(\n",
    "    csv_file=\"/kaggle/input/digit-recognizer/test.csv\",\n",
    "    transform=transforms.ToTensor(),\n",
    ") \n"
   ]
  },
  {
   "cell_type": "code",
   "execution_count": 12,
   "id": "c2424a1f",
   "metadata": {
    "execution": {
     "iopub.execute_input": "2024-05-24T07:59:43.053047Z",
     "iopub.status.busy": "2024-05-24T07:59:43.052235Z",
     "iopub.status.idle": "2024-05-24T07:59:43.057258Z",
     "shell.execute_reply": "2024-05-24T07:59:43.056355Z"
    },
    "papermill": {
     "duration": 0.014734,
     "end_time": "2024-05-24T07:59:43.059248",
     "exception": false,
     "start_time": "2024-05-24T07:59:43.044514",
     "status": "completed"
    },
    "tags": []
   },
   "outputs": [],
   "source": [
    "train_loader = DataLoader(dataset=traindataset, batch_size=batch_size, shuffle=True)\n",
    "test_loader = DataLoader(dataset=testdataset,shuffle=False)\n"
   ]
  },
  {
   "cell_type": "code",
   "execution_count": 13,
   "id": "eb22b4e0",
   "metadata": {
    "execution": {
     "iopub.execute_input": "2024-05-24T07:59:43.074091Z",
     "iopub.status.busy": "2024-05-24T07:59:43.073832Z",
     "iopub.status.idle": "2024-05-24T07:59:43.077653Z",
     "shell.execute_reply": "2024-05-24T07:59:43.076824Z"
    },
    "papermill": {
     "duration": 0.013525,
     "end_time": "2024-05-24T07:59:43.079530",
     "exception": false,
     "start_time": "2024-05-24T07:59:43.066005",
     "status": "completed"
    },
    "tags": []
   },
   "outputs": [],
   "source": [
    "# for x,y in train_loader:\n",
    "#     print(x.shape)\n",
    "#     x = x.permute(0,3,2,1)\n",
    "#     print(x.shape)\n",
    "#     break"
   ]
  },
  {
   "cell_type": "code",
   "execution_count": 14,
   "id": "8cc0ec34",
   "metadata": {
    "execution": {
     "iopub.execute_input": "2024-05-24T07:59:43.095067Z",
     "iopub.status.busy": "2024-05-24T07:59:43.094413Z",
     "iopub.status.idle": "2024-05-24T07:59:43.273162Z",
     "shell.execute_reply": "2024-05-24T07:59:43.272349Z"
    },
    "papermill": {
     "duration": 0.189137,
     "end_time": "2024-05-24T07:59:43.275535",
     "exception": false,
     "start_time": "2024-05-24T07:59:43.086398",
     "status": "completed"
    },
    "tags": []
   },
   "outputs": [],
   "source": [
    "model = CNN(in_channels=in_channels, num_classes=num_classes).to(device)\n"
   ]
  },
  {
   "cell_type": "code",
   "execution_count": 15,
   "id": "259fe409",
   "metadata": {
    "execution": {
     "iopub.execute_input": "2024-05-24T07:59:43.291107Z",
     "iopub.status.busy": "2024-05-24T07:59:43.290412Z",
     "iopub.status.idle": "2024-05-24T07:59:43.295139Z",
     "shell.execute_reply": "2024-05-24T07:59:43.294281Z"
    },
    "papermill": {
     "duration": 0.014622,
     "end_time": "2024-05-24T07:59:43.297081",
     "exception": false,
     "start_time": "2024-05-24T07:59:43.282459",
     "status": "completed"
    },
    "tags": []
   },
   "outputs": [],
   "source": [
    "# Loss and optimizer\n",
    "criterion = nn.CrossEntropyLoss()\n",
    "optimizer = optim.Adam(model.parameters(), lr=learning_rate)"
   ]
  },
  {
   "cell_type": "code",
   "execution_count": 16,
   "id": "af185155",
   "metadata": {
    "execution": {
     "iopub.execute_input": "2024-05-24T07:59:43.311928Z",
     "iopub.status.busy": "2024-05-24T07:59:43.311435Z",
     "iopub.status.idle": "2024-05-24T08:00:57.152574Z",
     "shell.execute_reply": "2024-05-24T08:00:57.151514Z"
    },
    "papermill": {
     "duration": 73.850746,
     "end_time": "2024-05-24T08:00:57.154641",
     "exception": false,
     "start_time": "2024-05-24T07:59:43.303895",
     "status": "completed"
    },
    "tags": []
   },
   "outputs": [
    {
     "name": "stderr",
     "output_type": "stream",
     "text": [
      "100%|██████████| 657/657 [00:05<00:00, 112.04it/s]\n"
     ]
    },
    {
     "name": "stdout",
     "output_type": "stream",
     "text": [
      "Cost at epoch 0 is 0.7901335617518861\n"
     ]
    },
    {
     "name": "stderr",
     "output_type": "stream",
     "text": [
      "100%|██████████| 657/657 [00:04<00:00, 132.32it/s]\n"
     ]
    },
    {
     "name": "stdout",
     "output_type": "stream",
     "text": [
      "Cost at epoch 1 is 0.2358642012969544\n"
     ]
    },
    {
     "name": "stderr",
     "output_type": "stream",
     "text": [
      "100%|██████████| 657/657 [00:04<00:00, 137.21it/s]\n"
     ]
    },
    {
     "name": "stdout",
     "output_type": "stream",
     "text": [
      "Cost at epoch 2 is 0.17403613586301944\n"
     ]
    },
    {
     "name": "stderr",
     "output_type": "stream",
     "text": [
      "100%|██████████| 657/657 [00:04<00:00, 132.06it/s]\n"
     ]
    },
    {
     "name": "stdout",
     "output_type": "stream",
     "text": [
      "Cost at epoch 3 is 0.13923086705681395\n"
     ]
    },
    {
     "name": "stderr",
     "output_type": "stream",
     "text": [
      "100%|██████████| 657/657 [00:04<00:00, 137.73it/s]\n"
     ]
    },
    {
     "name": "stdout",
     "output_type": "stream",
     "text": [
      "Cost at epoch 4 is 0.116717200998438\n"
     ]
    },
    {
     "name": "stderr",
     "output_type": "stream",
     "text": [
      "100%|██████████| 657/657 [00:04<00:00, 136.24it/s]\n"
     ]
    },
    {
     "name": "stdout",
     "output_type": "stream",
     "text": [
      "Cost at epoch 5 is 0.10210973599747028\n"
     ]
    },
    {
     "name": "stderr",
     "output_type": "stream",
     "text": [
      "100%|██████████| 657/657 [00:04<00:00, 132.50it/s]\n"
     ]
    },
    {
     "name": "stdout",
     "output_type": "stream",
     "text": [
      "Cost at epoch 6 is 0.09050151704182591\n"
     ]
    },
    {
     "name": "stderr",
     "output_type": "stream",
     "text": [
      "100%|██████████| 657/657 [00:04<00:00, 136.28it/s]\n"
     ]
    },
    {
     "name": "stdout",
     "output_type": "stream",
     "text": [
      "Cost at epoch 7 is 0.08330682880788066\n"
     ]
    },
    {
     "name": "stderr",
     "output_type": "stream",
     "text": [
      "100%|██████████| 657/657 [00:04<00:00, 138.14it/s]\n"
     ]
    },
    {
     "name": "stdout",
     "output_type": "stream",
     "text": [
      "Cost at epoch 8 is 0.07622831592285266\n"
     ]
    },
    {
     "name": "stderr",
     "output_type": "stream",
     "text": [
      "100%|██████████| 657/657 [00:04<00:00, 135.37it/s]\n"
     ]
    },
    {
     "name": "stdout",
     "output_type": "stream",
     "text": [
      "Cost at epoch 9 is 0.07068519234796207\n"
     ]
    },
    {
     "name": "stderr",
     "output_type": "stream",
     "text": [
      "100%|██████████| 657/657 [00:04<00:00, 136.98it/s]\n"
     ]
    },
    {
     "name": "stdout",
     "output_type": "stream",
     "text": [
      "Cost at epoch 10 is 0.06639916624425934\n"
     ]
    },
    {
     "name": "stderr",
     "output_type": "stream",
     "text": [
      "100%|██████████| 657/657 [00:04<00:00, 135.96it/s]\n"
     ]
    },
    {
     "name": "stdout",
     "output_type": "stream",
     "text": [
      "Cost at epoch 11 is 0.06306623631543969\n"
     ]
    },
    {
     "name": "stderr",
     "output_type": "stream",
     "text": [
      "100%|██████████| 657/657 [00:04<00:00, 136.83it/s]\n"
     ]
    },
    {
     "name": "stdout",
     "output_type": "stream",
     "text": [
      "Cost at epoch 12 is 0.059682316786809464\n"
     ]
    },
    {
     "name": "stderr",
     "output_type": "stream",
     "text": [
      "100%|██████████| 657/657 [00:04<00:00, 132.00it/s]\n"
     ]
    },
    {
     "name": "stdout",
     "output_type": "stream",
     "text": [
      "Cost at epoch 13 is 0.056922401574793266\n"
     ]
    },
    {
     "name": "stderr",
     "output_type": "stream",
     "text": [
      "100%|██████████| 657/657 [00:04<00:00, 136.97it/s]"
     ]
    },
    {
     "name": "stdout",
     "output_type": "stream",
     "text": [
      "Cost at epoch 14 is 0.05330674409124961\n"
     ]
    },
    {
     "name": "stderr",
     "output_type": "stream",
     "text": [
      "\n"
     ]
    }
   ],
   "source": [
    "for epoch in range(num_epochs):\n",
    "    losses = []\n",
    "\n",
    "    for batch_idx, (data, targets) in enumerate(tqdm(train_loader)):\n",
    "        # Get data to cuda if possible\n",
    "#         print(data.shape)\n",
    "\n",
    "#         break\n",
    "\n",
    "        data = data.to(device=device)\n",
    "        targets = targets.to(device=device)\n",
    "\n",
    "        # forward\n",
    "        scores = model(data)\n",
    "        loss = criterion(scores, targets)\n",
    "\n",
    "        losses.append(loss.item())\n",
    "        \n",
    "\n",
    "        # backward\n",
    "        optimizer.zero_grad()\n",
    "        loss.backward()\n",
    "\n",
    "        # gradient descent or adam step\n",
    "        optimizer.step()\n",
    "    print(f\"Cost at epoch {epoch} is {sum(losses)/len(losses)}\")\n",
    "\n",
    "        \n",
    "        \n"
   ]
  },
  {
   "cell_type": "code",
   "execution_count": 17,
   "id": "cc1e54b3",
   "metadata": {
    "execution": {
     "iopub.execute_input": "2024-05-24T08:00:57.285002Z",
     "iopub.status.busy": "2024-05-24T08:00:57.284272Z",
     "iopub.status.idle": "2024-05-24T08:00:57.288534Z",
     "shell.execute_reply": "2024-05-24T08:00:57.287596Z"
    },
    "papermill": {
     "duration": 0.071395,
     "end_time": "2024-05-24T08:00:57.290518",
     "exception": false,
     "start_time": "2024-05-24T08:00:57.219123",
     "status": "completed"
    },
    "tags": []
   },
   "outputs": [],
   "source": [
    "# print(losses)"
   ]
  },
  {
   "cell_type": "code",
   "execution_count": 18,
   "id": "404edd0d",
   "metadata": {
    "execution": {
     "iopub.execute_input": "2024-05-24T08:00:57.421262Z",
     "iopub.status.busy": "2024-05-24T08:00:57.420380Z",
     "iopub.status.idle": "2024-05-24T08:01:11.386571Z",
     "shell.execute_reply": "2024-05-24T08:01:11.385577Z"
    },
    "papermill": {
     "duration": 14.034087,
     "end_time": "2024-05-24T08:01:11.389028",
     "exception": false,
     "start_time": "2024-05-24T08:00:57.354941",
     "status": "completed"
    },
    "tags": []
   },
   "outputs": [],
   "source": [
    "# df = pd.read_csv('/kaggle/input/digit-recognizer/test.csv')\n",
    "# image =  df.values[1,:].reshape(28,28,-1).astype('float32')/255.0\n",
    "# image[:,:,1]\n",
    "# print(image.shape)\n",
    "sample = {'ImageId':[],\n",
    "          'Label': []\n",
    "            }\n",
    "model.eval()\n",
    "index =1\n",
    "with torch.no_grad():\n",
    "    for x in test_loader:\n",
    "#         x = x.permute(0,3,2,1)\n",
    "        x = x.to(device=device)\n",
    "        scores = model(x)\n",
    "#         print(scores.shape)\n",
    "#         print(scores)\n",
    "        _, predictions = scores.max(1)\n",
    "#         print(predictions)\n",
    "        sample['ImageId'].append(index)\n",
    "        sample['Label'].append(int(predictions))\n",
    "        index = index+1\n",
    "#         print(sample)\n",
    "df = pd.DataFrame(sample)  \n",
    "\n",
    "    \n",
    "    \n",
    "    "
   ]
  },
  {
   "cell_type": "code",
   "execution_count": 19,
   "id": "105e5c7c",
   "metadata": {
    "execution": {
     "iopub.execute_input": "2024-05-24T08:01:11.520910Z",
     "iopub.status.busy": "2024-05-24T08:01:11.519960Z",
     "iopub.status.idle": "2024-05-24T08:01:11.557269Z",
     "shell.execute_reply": "2024-05-24T08:01:11.556468Z"
    },
    "papermill": {
     "duration": 0.105394,
     "end_time": "2024-05-24T08:01:11.559595",
     "exception": false,
     "start_time": "2024-05-24T08:01:11.454201",
     "status": "completed"
    },
    "tags": []
   },
   "outputs": [],
   "source": [
    "df.to_csv(os.path.join('/kaggle/working/'+'output.csv'),index = False)\n"
   ]
  },
  {
   "cell_type": "code",
   "execution_count": 20,
   "id": "c0753136",
   "metadata": {
    "execution": {
     "iopub.execute_input": "2024-05-24T08:01:11.740427Z",
     "iopub.status.busy": "2024-05-24T08:01:11.739591Z",
     "iopub.status.idle": "2024-05-24T08:01:13.555762Z",
     "shell.execute_reply": "2024-05-24T08:01:13.554838Z"
    },
    "papermill": {
     "duration": 1.884565,
     "end_time": "2024-05-24T08:01:13.558257",
     "exception": false,
     "start_time": "2024-05-24T08:01:11.673692",
     "status": "completed"
    },
    "tags": []
   },
   "outputs": [],
   "source": [
    "testfinaldataset = test(\n",
    "    csv_file1=\"/kaggle/input/digit-recognizer/test.csv\",\n",
    "\n",
    "    csv_file2=\"/kaggle/working/output.csv\",\n",
    "    transform=transforms.ToTensor(),\n",
    ")\n",
    "testfinal_loader = DataLoader(dataset=testfinaldataset,batch_size=batch_size,shuffle=True)\n"
   ]
  },
  {
   "cell_type": "code",
   "execution_count": 21,
   "id": "ad63014b",
   "metadata": {
    "execution": {
     "iopub.execute_input": "2024-05-24T08:01:13.698292Z",
     "iopub.status.busy": "2024-05-24T08:01:13.697509Z",
     "iopub.status.idle": "2024-05-24T08:01:20.410613Z",
     "shell.execute_reply": "2024-05-24T08:01:20.409341Z"
    },
    "papermill": {
     "duration": 6.783539,
     "end_time": "2024-05-24T08:01:20.412797",
     "exception": false,
     "start_time": "2024-05-24T08:01:13.629258",
     "status": "completed"
    },
    "tags": []
   },
   "outputs": [
    {
     "name": "stdout",
     "output_type": "stream",
     "text": [
      "Accuracy on training set: 98.20\n",
      "Accuracy on test set: 100.00\n"
     ]
    }
   ],
   "source": [
    "# Check accuracy on training & test to see how good our model\n",
    "def check_accuracy(loader, model):\n",
    "    num_correct = 0\n",
    "    num_samples = 0\n",
    "    model.eval()\n",
    "\n",
    "    with torch.no_grad():\n",
    "        for x, y in loader:\n",
    "            x = x.to(device=device)\n",
    "            y = y.to(device=device)\n",
    "\n",
    "            scores = model(x)\n",
    "            _, predictions = scores.max(1)\n",
    "            num_correct += (predictions == y).sum()\n",
    "            num_samples += predictions.size(0)\n",
    "\n",
    "    model.train()\n",
    "    return num_correct / num_samples\n",
    "\n",
    "\n",
    "print(f\"Accuracy on training set: {check_accuracy(train_loader, model)*100:.2f}\")\n",
    "print(f\"Accuracy on test set: {check_accuracy(testfinal_loader, model)*100:.2f}\")"
   ]
  },
  {
   "cell_type": "code",
   "execution_count": null,
   "id": "0d0cccc2",
   "metadata": {
    "papermill": {
     "duration": 0.064035,
     "end_time": "2024-05-24T08:01:20.542378",
     "exception": false,
     "start_time": "2024-05-24T08:01:20.478343",
     "status": "completed"
    },
    "tags": []
   },
   "outputs": [],
   "source": []
  },
  {
   "cell_type": "markdown",
   "id": "5e53c1bb",
   "metadata": {
    "papermill": {
     "duration": 0.065924,
     "end_time": "2024-05-24T08:01:20.672956",
     "exception": false,
     "start_time": "2024-05-24T08:01:20.607032",
     "status": "completed"
    },
    "tags": []
   },
   "source": []
  }
 ],
 "metadata": {
  "kaggle": {
   "accelerator": "gpu",
   "dataSources": [
    {
     "databundleVersionId": 861823,
     "sourceId": 3004,
     "sourceType": "competition"
    }
   ],
   "dockerImageVersionId": 30698,
   "isGpuEnabled": true,
   "isInternetEnabled": true,
   "language": "python",
   "sourceType": "notebook"
  },
  "kernelspec": {
   "display_name": "Python 3",
   "language": "python",
   "name": "python3"
  },
  "language_info": {
   "codemirror_mode": {
    "name": "ipython",
    "version": 3
   },
   "file_extension": ".py",
   "mimetype": "text/x-python",
   "name": "python",
   "nbconvert_exporter": "python",
   "pygments_lexer": "ipython3",
   "version": "3.10.13"
  },
  "papermill": {
   "default_parameters": {},
   "duration": 119.239217,
   "end_time": "2024-05-24T08:01:22.964009",
   "environment_variables": {},
   "exception": null,
   "input_path": "__notebook__.ipynb",
   "output_path": "__notebook__.ipynb",
   "parameters": {},
   "start_time": "2024-05-24T07:59:23.724792",
   "version": "2.5.0"
  }
 },
 "nbformat": 4,
 "nbformat_minor": 5
}
